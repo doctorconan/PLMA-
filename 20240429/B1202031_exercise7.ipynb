{
  "nbformat": 4,
  "nbformat_minor": 0,
  "metadata": {
    "colab": {
      "provenance": []
    },
    "kernelspec": {
      "name": "python3",
      "display_name": "Python 3"
    },
    "language_info": {
      "name": "python"
    }
  },
  "cells": [
    {
      "cell_type": "code",
      "source": [
        "h=int(input('聖誕樹層數：'))\n",
        "for i in range(h):\n",
        "  print((' '*(h-i))+('*')*(2*i+1))\n",
        "\n",
        "r=5\n",
        "\n",
        "for i in range(r):\n",
        "  print((' ')*(h-1)+('*')*3)"
      ],
      "metadata": {
        "colab": {
          "base_uri": "https://localhost:8080/"
        },
        "id": "4D8PrLjRyWM9",
        "outputId": "dc3a6189-c3b1-45f6-dfa5-a8fc0f1cf859"
      },
      "execution_count": 5,
      "outputs": [
        {
          "output_type": "stream",
          "name": "stdout",
          "text": [
            "聖誕樹層數：8\n",
            "        *\n",
            "       ***\n",
            "      *****\n",
            "     *******\n",
            "    *********\n",
            "   ***********\n",
            "  *************\n",
            " ***************\n",
            "       ***\n",
            "       ***\n",
            "       ***\n",
            "       ***\n",
            "       ***\n"
          ]
        }
      ]
    },
    {
      "cell_type": "code",
      "execution_count": 19,
      "metadata": {
        "colab": {
          "base_uri": "https://localhost:8080/"
        },
        "id": "Sl2lKuZ6v6h8",
        "outputId": "9680cee6-671e-4c41-cd68-2f2c80bc9b6f"
      },
      "outputs": [
        {
          "output_type": "stream",
          "name": "stdout",
          "text": [
            "輸入身高(單位：公分)：150\n",
            "輸入體重(單位：公斤)：G\n",
            "身高(公分): 150\n",
            "體重: G\n",
            "輸入內容錯誤\n"
          ]
        }
      ],
      "source": [
        "def BMI(a,b):\n",
        "  BMI=b/(a*a)\n",
        "  return BMI\n",
        "\n",
        "try:\n",
        "  c = input(\"輸入身高(單位：公分)：\")\n",
        "  d = input(\"輸入體重(單位：公斤)：\")\n",
        "  a = int(c)\n",
        "  b = int(d)\n",
        "  print('身高(公分):',a)\n",
        "  print('體重:',b)\n",
        "  a/=100\n",
        "  print('BMI:',BMI(a,b))\n",
        "\n",
        "  if b/(a*a)<18.5:\n",
        "    print('體位:過輕')\n",
        "  elif 18.5<b/(a*a)<24 or b/(a*a)==18.5:\n",
        "    print('體位:適中')\n",
        "  elif 24<b/(a*a)<27 or b/(a*a)==24:\n",
        "    print('體位:過重')\n",
        "  else:\n",
        "    print('體位:肥胖')\n",
        "except:\n",
        "  print('身高(公分):',c)\n",
        "  print('體重:',d)\n",
        "  print('輸入內容錯誤')"
      ]
    }
  ]
}